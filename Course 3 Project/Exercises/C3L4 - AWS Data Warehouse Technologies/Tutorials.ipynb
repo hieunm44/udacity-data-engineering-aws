{
 "cells": [
  {
   "metadata": {},
   "cell_type": "markdown",
   "source": "# Data Warehouses with AWS Redshift",
   "id": "6757edda6fdd126"
  },
  {
   "metadata": {},
   "cell_type": "markdown",
   "source": [
    "## 1. Create an IAM Role\n",
    "1. Vào **IAM** -> **Access management** -> **Roles** -> **Create role**\n",
    "2. Chọn **Trusted entity type** là `AWS service`, **Use case** là `Redshift`, **specific use case** là `Redshift - Customizable` -> **Next**.\n",
    "\n",
    "   <img src=\"images/aws1.png\" width=700>\n",
    "\n",
    "3. Trong **Permission policies**, tick `AmazonS3ReadOnlyAccess`\n",
    "\n",
    "   <img src=\"images/aws2.png\" width=700>\n",
    "\n",
    "4. Đặt Role name là `myRedshiftRole` -> **Create role**"
   ],
   "id": "32ef0217f039e1d5"
  },
  {
   "metadata": {},
   "cell_type": "markdown",
   "source": [
    "## 2. Create Security Group\n",
    "\n",
    "1. Vào **EC2 → Network & Security** → **Security Groups** → **Create security group**\n",
    "2. Trong **Basic details**, đặt **Security group name** là `redshift_security_group`, **Description** là `Authorise redshift cluster access`, **VPC** (Virtual Private Cloud) để default. \\\n",
    "Trong **Inbound rules**, chọn **Add rule**, **Type** là `Custom TCP`, **Port range** là `5439` (mặc default của Redshift), **Source** là `Custom`, `0.0.0.0/0`. \\\n",
    "Chú ý: Dùng 0.0.0.0/0 chỉ để minh họa, vì nó cho phép truy cập từ mọi máy tính trên Internet. Thực tế sẽ tạo inbould rules dựa trên network settings. \\\n",
    "**Outbound rules** để defaut, cho phép traffic đến mọi nơi. \\\n",
    "Chọn **Create security group**.\n",
    "\n",
    "   <img src=\"images/aws3.png\" width=1500>"
   ],
   "id": "2e4da473ea936eeb"
  },
  {
   "metadata": {},
   "cell_type": "markdown",
   "source": [
    "## 3. Create an IAM User\n",
    "1. Vào **IAM** -> **Access management** -> **Users** -> **Create user**\n",
    "2. Đặt **user name**, ko chọn **Provide user access to the AWS Management Console** -> **Next**\n",
    "\n",
    "   <img src=\"images/aws4.png\" width=700>\n",
    "\n",
    "3. Chọn **Attach policies directly**, tick `AmazonRedshiftFullAccess` và `AmazonS3ReadOnlyAccess`  -> **Next** -> **Creat user**\n",
    "\n",
    "   <img src=\"images/aws5.png\" width=700>\n",
    "\n",
    "4. Vào username vừa tạo -> **Security credentials**. Trong **Access keys**, ấn **Create access key**.\n",
    "\n",
    "   <img src=\"images/aws6.png\" width=1000>\n",
    "\n",
    "5. Chọn **Use case** là `Command Line Interface (CLI)`, tick **I understand…** -> **Next** -> **Create access key** -> Lưu lại Access key và Secret access key."
   ],
   "id": "b6efac065254c6d8"
  },
  {
   "metadata": {},
   "cell_type": "markdown",
   "source": [
    "## 4. Launch a Redshift Cluster\n",
    "1. Vào **Redshift → Configurations** → **Subnet groups** → **Create cluster subnet group**\n",
    "2. Trong **Add subnets**, chọn `Default VPC` -> **Add all the subnets for this VPC** -> **Create cluster subnet group**\n",
    "\n",
    "   <img src=\"images/aws7.png\" width=700>\n",
    "\n",
    "3. Vào **Provisioned clusters dashboard** -> **Create cluster**. Trong **Cluster configurations**, chọn Node type là `dc2.large`, đặt Number of nodes là `1`.\n",
    "\n",
    "   <img src=\"images/aws8.png\" width=700>\n",
    "\n",
    "4. Trong **Database configurations**, chọn **Mannually add the admin password** và đặt password. \\\n",
    "Trong Cluster permissions, ấn vào **Associate IAM role** -> Tick `myRedshiftRole` -> **Associate IAM roles**\n",
    "\n",
    "   <img src=\"images/aws9.png\" width=700>\n",
    "\n",
    "5. Trong **Additional configurations**, tắt **Use defaults**. \\\n",
    "Trong **Network and security**, ở **VPC security groups**, tick `redshift_security_group`; ở **Publicly accessible**, tick **Turn on Publicly accessible** → **Create cluster**"
   ],
   "id": "e36a5f2ac295fc66"
  },
  {
   "metadata": {},
   "cell_type": "markdown",
   "source": [
    "## 5. AWS S3\n",
    "1. Vào **S3 -> Buckets** -> **Create bucket**\n",
    "2. Đặt **bucket name**. Trong **Block Public Acess setting for this bucket**, bỏ tick **Block all public access** -> **Create bucket**\n",
    "\n",
    "   <img src=\"images/aws10.png\" width=700>"
   ],
   "id": "a0d54716511770eb"
  },
  {
   "metadata": {},
   "cell_type": "markdown",
   "source": [
    "## 6. AWS RDS Database\n",
    "1. Vào **RDS →** **Dashboard** → **Create database**\n",
    "2. Chọn **database creation method** là **Standard create**, **Engine type** là `PostgreSQL`.\n",
    "\n",
    "   <img src=\"images/aws11.png\" width=700>\n",
    "\n",
    "3. Trong **Templates**, chọn `Free tier`. \\\n",
    "   Trong **Settings**, đặt **DB instance identifer, Master username, Master password**.\n",
    "\n",
    "   <img src=\"images/aws12.png\" width=700>\n",
    "\n",
    "4. Để nguyên **Instance configuration** và **Storage**. Trong **Connectivity**, ở **Public access**, tick `Yes`. Còn lại để nguyên.\n",
    "\n",
    "   <img src=\"images/aws13.png\" width=700>\n",
    "\n",
    "5. Để nguyên **Tags**, **Database authenication**, và **Monitoring**. \\\n",
    "   Trong **Additional configuration**, đặt **Initial database name**. Còn lại để nguyên -> **Create database**"
   ],
   "id": "dfbe4275a35199e7"
  },
  {
   "metadata": {},
   "cell_type": "markdown",
   "source": "Tất cả các bước trên đều có thể thực hiện bằng code. Xem file `Ex1_AWS_Redshift_with_PythonSDK.ipynb`",
   "id": "417cf8901b88e457"
  }
 ],
 "metadata": {
  "kernelspec": {
   "display_name": "Python 3",
   "language": "python",
   "name": "python3"
  },
  "language_info": {
   "codemirror_mode": {
    "name": "ipython",
    "version": 2
   },
   "file_extension": ".py",
   "mimetype": "text/x-python",
   "name": "python",
   "nbconvert_exporter": "python",
   "pygments_lexer": "ipython2",
   "version": "2.7.6"
  }
 },
 "nbformat": 4,
 "nbformat_minor": 5
}
