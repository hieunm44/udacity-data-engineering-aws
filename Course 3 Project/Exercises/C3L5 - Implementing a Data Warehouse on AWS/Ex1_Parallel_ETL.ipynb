{
 "cells": [
  {
   "cell_type": "markdown",
   "metadata": {},
   "source": [
    "# Exercise 3: Parallel ETL"
   ]
  },
  {
   "cell_type": "code",
   "metadata": {
    "ExecuteTime": {
     "end_time": "2025-06-30T14:57:54.340843Z",
     "start_time": "2025-06-30T14:57:54.066414Z"
    }
   },
   "source": [
    "import configparser\n",
    "import redshift_connector"
   ],
   "outputs": [],
   "execution_count": 10
  },
  {
   "cell_type": "markdown",
   "metadata": {},
   "source": [
    "# STEP 1: Get the params of the created redshift cluster\n",
    "1. Tạo 1 Redshift cluster rồi lấy Endpoint (bỏ phần cuối `:5439/`) điền vào file `dwh.cfg`\n",
    "\n",
    "<img src=\"images/aws1.png\" width=1000>\n",
    "\n",
    "2. Tạo 1 IAM role rồi lấy ARN điền vào file `dwh.cfg`\n",
    "\n",
    "<img src=\"images/aws2.png\" width=1000>"
   ]
  },
  {
   "cell_type": "markdown",
   "metadata": {},
   "source": "# STEP 2: Connect to the Redshift Cluster"
  },
  {
   "metadata": {
    "ExecuteTime": {
     "end_time": "2025-06-30T15:02:02.299423Z",
     "start_time": "2025-06-30T15:02:02.281877Z"
    }
   },
   "cell_type": "code",
   "source": [
    "config = configparser.ConfigParser()\n",
    "config.read('dwh.cfg')"
   ],
   "outputs": [
    {
     "data": {
      "text/plain": [
       "['dwh.cfg']"
      ]
     },
     "execution_count": 13,
     "metadata": {},
     "output_type": "execute_result"
    }
   ],
   "execution_count": 13
  },
  {
   "metadata": {
    "ExecuteTime": {
     "end_time": "2025-06-30T15:02:11.272295Z",
     "start_time": "2025-06-30T15:02:08.721551Z"
    }
   },
   "cell_type": "code",
   "source": [
    "conn = redshift_connector.connect(\n",
    "    host=config['CLUSTER']['HOST'],\n",
    "    database=config['CLUSTER']['DB_NAME'],\n",
    "    port=config['CLUSTER']['DB_PORT'],\n",
    "    user=config['CLUSTER']['DB_USER'],\n",
    "    password=config['CLUSTER']['DB_PASSWORD']\n",
    ")\n",
    "conn.autocommit = True\n",
    "cur = conn.cursor()"
   ],
   "outputs": [],
   "execution_count": 14
  },
  {
   "cell_type": "code",
   "metadata": {
    "ExecuteTime": {
     "end_time": "2025-06-30T15:02:28.325753Z",
     "start_time": "2025-06-30T15:02:26.380414Z"
    }
   },
   "source": [
    "import boto3\n",
    "\n",
    "s3 = boto3.resource(service_name='s3',\n",
    "                    region_name=\"us-west-2\",\n",
    "                    aws_access_key_id=KEY,\n",
    "                    aws_secret_access_key=SECRET\n",
    "                    )\n",
    "\n",
    "sampleDbBucket =  s3.Bucket(\"udacity-labs\")\n",
    "\n",
    "for obj in sampleDbBucket.objects.filter(Prefix=\"tickets\"):\n",
    "    print(obj)"
   ],
   "outputs": [
    {
     "name": "stdout",
     "output_type": "stream",
     "text": [
      "s3.ObjectSummary(bucket_name='udacity-labs', key='tickets/')\n",
      "s3.ObjectSummary(bucket_name='udacity-labs', key='tickets/full/')\n",
      "s3.ObjectSummary(bucket_name='udacity-labs', key='tickets/full/full.csv.gz')\n",
      "s3.ObjectSummary(bucket_name='udacity-labs', key='tickets/split/')\n",
      "s3.ObjectSummary(bucket_name='udacity-labs', key='tickets/split/part-00000-d33afb94-b8af-407d-abd5-59c0ee8f5ee8-c000.csv.gz')\n",
      "s3.ObjectSummary(bucket_name='udacity-labs', key='tickets/split/part-00001-d33afb94-b8af-407d-abd5-59c0ee8f5ee8-c000.csv.gz')\n",
      "s3.ObjectSummary(bucket_name='udacity-labs', key='tickets/split/part-00002-d33afb94-b8af-407d-abd5-59c0ee8f5ee8-c000.csv.gz')\n",
      "s3.ObjectSummary(bucket_name='udacity-labs', key='tickets/split/part-00003-d33afb94-b8af-407d-abd5-59c0ee8f5ee8-c000.csv.gz')\n",
      "s3.ObjectSummary(bucket_name='udacity-labs', key='tickets/split/part-00004-d33afb94-b8af-407d-abd5-59c0ee8f5ee8-c000.csv.gz')\n",
      "s3.ObjectSummary(bucket_name='udacity-labs', key='tickets/split/part-00005-d33afb94-b8af-407d-abd5-59c0ee8f5ee8-c000.csv.gz')\n",
      "s3.ObjectSummary(bucket_name='udacity-labs', key='tickets/split/part-00006-d33afb94-b8af-407d-abd5-59c0ee8f5ee8-c000.csv.gz')\n",
      "s3.ObjectSummary(bucket_name='udacity-labs', key='tickets/split/part-00007-d33afb94-b8af-407d-abd5-59c0ee8f5ee8-c000.csv.gz')\n",
      "s3.ObjectSummary(bucket_name='udacity-labs', key='tickets/split/part-00008-d33afb94-b8af-407d-abd5-59c0ee8f5ee8-c000.csv.gz')\n",
      "s3.ObjectSummary(bucket_name='udacity-labs', key='tickets/split/part-00009-d33afb94-b8af-407d-abd5-59c0ee8f5ee8-c000.csv.gz')\n"
     ]
    }
   ],
   "execution_count": 15
  },
  {
   "cell_type": "markdown",
   "metadata": {},
   "source": [
    "# STEP 3: Create Tables"
   ]
  },
  {
   "metadata": {
    "ExecuteTime": {
     "end_time": "2025-06-30T15:05:16.721604Z",
     "start_time": "2025-06-30T15:05:14.880339Z"
    }
   },
   "cell_type": "code",
   "source": [
    "cur.execute(\"\"\"\n",
    "    DROP TABLE IF EXISTS \"sporting_event_ticket\"\n",
    "\"\"\")\n",
    "cur.execute(\"\"\"\n",
    "    CREATE TABLE \"sporting_event_ticket\" (\n",
    "        \"id\" double precision DEFAULT nextval('sporting_event_ticket_seq') NOT NULL,\n",
    "        \"sporting_event_id\" double precision NOT NULL,\n",
    "        \"sport_location_id\" double precision NOT NULL,\n",
    "        \"seat_level\" numeric(1,0) NOT NULL,\n",
    "        \"seat_section\" character varying(15) NOT NULL,\n",
    "        \"seat_row\" character varying(10) NOT NULL,\n",
    "        \"seat\" character varying(10) NOT NULL,\n",
    "        \"ticketholder_id\" double precision,\n",
    "        \"ticket_price\" numeric(8,2) NOT NULL\n",
    "    );\n",
    "\"\"\")"
   ],
   "outputs": [
    {
     "data": {
      "text/plain": [
       "<redshift_connector.cursor.Cursor at 0x7e73f138e620>"
      ]
     },
     "execution_count": 18,
     "metadata": {},
     "output_type": "execute_result"
    }
   ],
   "execution_count": 18
  },
  {
   "cell_type": "markdown",
   "metadata": {},
   "source": [
    "# STEP 4: Load Partitioned data into the cluster"
   ]
  },
  {
   "cell_type": "code",
   "metadata": {
    "ExecuteTime": {
     "end_time": "2025-06-30T15:06:27.247750Z",
     "start_time": "2025-06-30T15:05:48.626611Z"
    }
   },
   "source": [
    "%%time\n",
    "qry = \"\"\"\n",
    "    copy sporting_event_ticket from 's3://udacity-labs/tickets/split/part'\n",
    "    credentials 'aws_iam_role={}'\n",
    "    gzip delimiter ';' compupdate off region 'us-west-2';\n",
    "\"\"\".format(DWH_ROLE_ARN)\n",
    "\n",
    "cur.execute(qry)"
   ],
   "outputs": [
    {
     "name": "stdout",
     "output_type": "stream",
     "text": [
      "CPU times: user 2.42 ms, sys: 1.82 ms, total: 4.23 ms\n",
      "Wall time: 38.6 s\n"
     ]
    },
    {
     "data": {
      "text/plain": [
       "<redshift_connector.cursor.Cursor at 0x7e73f138e620>"
      ]
     },
     "execution_count": 19,
     "metadata": {},
     "output_type": "execute_result"
    }
   ],
   "execution_count": 19
  },
  {
   "cell_type": "markdown",
   "metadata": {},
   "source": "# STEP 5: Create Tables for the non-partitioned data"
  },
  {
   "metadata": {
    "ExecuteTime": {
     "end_time": "2025-06-30T15:08:12.954467Z",
     "start_time": "2025-06-30T15:08:11.411776Z"
    }
   },
   "cell_type": "code",
   "source": [
    "cur.execute(\"\"\"\n",
    "    DROP TABLE IF EXISTS \"sporting_event_ticket_full\";\n",
    "\"\"\")\n",
    "cur.execute(\"\"\"\n",
    "    CREATE TABLE \"sporting_event_ticket_full\" (\n",
    "        \"id\" double precision DEFAULT nextval('sporting_event_ticket_seq') NOT NULL,\n",
    "        \"sporting_event_id\" double precision NOT NULL,\n",
    "        \"sport_location_id\" double precision NOT NULL,\n",
    "        \"seat_level\" numeric(1,0) NOT NULL,\n",
    "        \"seat_section\" character varying(15) NOT NULL,\n",
    "        \"seat_row\" character varying(10) NOT NULL,\n",
    "        \"seat\" character varying(10) NOT NULL,\n",
    "        \"ticketholder_id\" double precision,\n",
    "        \"ticket_price\" numeric(8,2) NOT NULL\n",
    "    );\n",
    "\"\"\")"
   ],
   "outputs": [
    {
     "data": {
      "text/plain": [
       "<redshift_connector.cursor.Cursor at 0x7e73f138e620>"
      ]
     },
     "execution_count": 20,
     "metadata": {},
     "output_type": "execute_result"
    }
   ],
   "execution_count": 20
  },
  {
   "cell_type": "markdown",
   "metadata": {},
   "source": [
    "# STEP 6: Load non-partitioned data into the cluster\n",
    "Use the COPY command to load data from `s3://udacity-labs/tickets/full/full.csv.gz` using your iam role credentials. Use gzip delimiter `;`.\n",
    "\n",
    "Note how it's slower than loading partitioned data"
   ]
  },
  {
   "cell_type": "code",
   "metadata": {
    "ExecuteTime": {
     "end_time": "2025-06-30T15:08:48.896675Z",
     "start_time": "2025-06-30T15:08:22.147259Z"
    }
   },
   "source": [
    "%%time\n",
    "\n",
    "qry = \"\"\"\n",
    "    copy sporting_event_ticket_full from 's3://udacity-labs/tickets/full/full.csv.gz' \n",
    "    credentials 'aws_iam_role={}' \n",
    "    gzip delimiter ';' compupdate off region 'us-west-2';\n",
    "\"\"\".format(DWH_ROLE_ARN)\n",
    "\n",
    "cur.execute(qry)"
   ],
   "outputs": [
    {
     "name": "stdout",
     "output_type": "stream",
     "text": [
      "CPU times: user 1.98 ms, sys: 2.69 ms, total: 4.67 ms\n",
      "Wall time: 26.7 s\n"
     ]
    },
    {
     "data": {
      "text/plain": [
       "<redshift_connector.cursor.Cursor at 0x7e73f138e620>"
      ]
     },
     "execution_count": 21,
     "metadata": {},
     "output_type": "execute_result"
    }
   ],
   "execution_count": 21
  }
 ],
 "metadata": {
  "kernelspec": {
   "display_name": "Python 3",
   "language": "python",
   "name": "python3"
  },
  "language_info": {
   "codemirror_mode": {
    "name": "ipython",
    "version": 3
   },
   "file_extension": ".py",
   "mimetype": "text/x-python",
   "name": "python",
   "nbconvert_exporter": "python",
   "pygments_lexer": "ipython3",
   "version": "3.6.3"
  }
 },
 "nbformat": 4,
 "nbformat_minor": 2
}
